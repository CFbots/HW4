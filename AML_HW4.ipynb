{
  "nbformat": 4,
  "nbformat_minor": 0,
  "metadata": {
    "colab": {
      "name": "AML_HW4.ipynb",
      "provenance": [],
      "collapsed_sections": []
    },
    "kernelspec": {
      "name": "python3",
      "display_name": "Python 3"
    },
    "language_info": {
      "name": "python"
    }
  },
  "cells": [
    {
      "cell_type": "code",
      "metadata": {
        "id": "ucJyU9sRq4wO"
      },
      "source": [
        "import numpy as np\n",
        "import pandas as pd\n",
        "import matplotlib.pyplot as plt\n",
        "from sklearn.model_selection import train_test_split, GridSearchCV\n",
        "from sklearn.preprocessing import OneHotEncoder as OHE\n",
        "from sklearn.preprocessing import StandardScaler\n",
        "from sklearn.svm import LinearSVC\n",
        "from sklearn import svm\n",
        "from sklearn import metrics"
      ],
      "execution_count": null,
      "outputs": []
    },
    {
      "cell_type": "code",
      "metadata": {
        "id": "lX0laOWD-K8f"
      },
      "source": [
        "from sklearn.svm import SVC\n",
        "from sklearn.pipeline import make_pipeline\n",
        "from sklearn.model_selection import StratifiedShuffleSplit"
      ],
      "execution_count": null,
      "outputs": []
    },
    {
      "cell_type": "code",
      "metadata": {
        "id": "OXJ6yEx0rRs1"
      },
      "source": [
        "oj = pd.read_csv(r'/content/drive/MyDrive/OJ.csv',index_col=0)"
      ],
      "execution_count": null,
      "outputs": []
    },
    {
      "cell_type": "code",
      "metadata": {
        "colab": {
          "base_uri": "https://localhost:8080/"
        },
        "id": "gS5txFaNrrJT",
        "outputId": "455d86b0-6237-4a3b-9b80-933f19d8eda4"
      },
      "source": [
        "print(oj.shape)\n",
        "print(oj.columns)"
      ],
      "execution_count": null,
      "outputs": [
        {
          "output_type": "stream",
          "name": "stdout",
          "text": [
            "(1070, 18)\n",
            "Index(['Purchase', 'WeekofPurchase', 'StoreID', 'PriceCH', 'PriceMM', 'DiscCH',\n",
            "       'DiscMM', 'SpecialCH', 'SpecialMM', 'LoyalCH', 'SalePriceMM',\n",
            "       'SalePriceCH', 'PriceDiff', 'Store7', 'PctDiscMM', 'PctDiscCH',\n",
            "       'ListPriceDiff', 'STORE'],\n",
            "      dtype='object')\n"
          ]
        }
      ]
    },
    {
      "cell_type": "code",
      "metadata": {
        "colab": {
          "base_uri": "https://localhost:8080/",
          "height": 444
        },
        "id": "NFLpmexdrsvU",
        "outputId": "7ea3c8fd-334d-479d-9daf-d74b501c86c1"
      },
      "source": [
        "oj"
      ],
      "execution_count": null,
      "outputs": [
        {
          "output_type": "execute_result",
          "data": {
            "text/html": [
              "<div>\n",
              "<style scoped>\n",
              "    .dataframe tbody tr th:only-of-type {\n",
              "        vertical-align: middle;\n",
              "    }\n",
              "\n",
              "    .dataframe tbody tr th {\n",
              "        vertical-align: top;\n",
              "    }\n",
              "\n",
              "    .dataframe thead th {\n",
              "        text-align: right;\n",
              "    }\n",
              "</style>\n",
              "<table border=\"1\" class=\"dataframe\">\n",
              "  <thead>\n",
              "    <tr style=\"text-align: right;\">\n",
              "      <th></th>\n",
              "      <th>Purchase</th>\n",
              "      <th>WeekofPurchase</th>\n",
              "      <th>StoreID</th>\n",
              "      <th>PriceCH</th>\n",
              "      <th>PriceMM</th>\n",
              "      <th>DiscCH</th>\n",
              "      <th>DiscMM</th>\n",
              "      <th>SpecialCH</th>\n",
              "      <th>SpecialMM</th>\n",
              "      <th>LoyalCH</th>\n",
              "      <th>SalePriceMM</th>\n",
              "      <th>SalePriceCH</th>\n",
              "      <th>PriceDiff</th>\n",
              "      <th>Store7</th>\n",
              "      <th>PctDiscMM</th>\n",
              "      <th>PctDiscCH</th>\n",
              "      <th>ListPriceDiff</th>\n",
              "      <th>STORE</th>\n",
              "    </tr>\n",
              "  </thead>\n",
              "  <tbody>\n",
              "    <tr>\n",
              "      <th>1</th>\n",
              "      <td>CH</td>\n",
              "      <td>237</td>\n",
              "      <td>1</td>\n",
              "      <td>1.75</td>\n",
              "      <td>1.99</td>\n",
              "      <td>0.00</td>\n",
              "      <td>0.00</td>\n",
              "      <td>0</td>\n",
              "      <td>0</td>\n",
              "      <td>0.500000</td>\n",
              "      <td>1.99</td>\n",
              "      <td>1.75</td>\n",
              "      <td>0.24</td>\n",
              "      <td>No</td>\n",
              "      <td>0.000000</td>\n",
              "      <td>0.000000</td>\n",
              "      <td>0.24</td>\n",
              "      <td>1</td>\n",
              "    </tr>\n",
              "    <tr>\n",
              "      <th>2</th>\n",
              "      <td>CH</td>\n",
              "      <td>239</td>\n",
              "      <td>1</td>\n",
              "      <td>1.75</td>\n",
              "      <td>1.99</td>\n",
              "      <td>0.00</td>\n",
              "      <td>0.30</td>\n",
              "      <td>0</td>\n",
              "      <td>1</td>\n",
              "      <td>0.600000</td>\n",
              "      <td>1.69</td>\n",
              "      <td>1.75</td>\n",
              "      <td>-0.06</td>\n",
              "      <td>No</td>\n",
              "      <td>0.150754</td>\n",
              "      <td>0.000000</td>\n",
              "      <td>0.24</td>\n",
              "      <td>1</td>\n",
              "    </tr>\n",
              "    <tr>\n",
              "      <th>3</th>\n",
              "      <td>CH</td>\n",
              "      <td>245</td>\n",
              "      <td>1</td>\n",
              "      <td>1.86</td>\n",
              "      <td>2.09</td>\n",
              "      <td>0.17</td>\n",
              "      <td>0.00</td>\n",
              "      <td>0</td>\n",
              "      <td>0</td>\n",
              "      <td>0.680000</td>\n",
              "      <td>2.09</td>\n",
              "      <td>1.69</td>\n",
              "      <td>0.40</td>\n",
              "      <td>No</td>\n",
              "      <td>0.000000</td>\n",
              "      <td>0.091398</td>\n",
              "      <td>0.23</td>\n",
              "      <td>1</td>\n",
              "    </tr>\n",
              "    <tr>\n",
              "      <th>4</th>\n",
              "      <td>MM</td>\n",
              "      <td>227</td>\n",
              "      <td>1</td>\n",
              "      <td>1.69</td>\n",
              "      <td>1.69</td>\n",
              "      <td>0.00</td>\n",
              "      <td>0.00</td>\n",
              "      <td>0</td>\n",
              "      <td>0</td>\n",
              "      <td>0.400000</td>\n",
              "      <td>1.69</td>\n",
              "      <td>1.69</td>\n",
              "      <td>0.00</td>\n",
              "      <td>No</td>\n",
              "      <td>0.000000</td>\n",
              "      <td>0.000000</td>\n",
              "      <td>0.00</td>\n",
              "      <td>1</td>\n",
              "    </tr>\n",
              "    <tr>\n",
              "      <th>5</th>\n",
              "      <td>CH</td>\n",
              "      <td>228</td>\n",
              "      <td>7</td>\n",
              "      <td>1.69</td>\n",
              "      <td>1.69</td>\n",
              "      <td>0.00</td>\n",
              "      <td>0.00</td>\n",
              "      <td>0</td>\n",
              "      <td>0</td>\n",
              "      <td>0.956535</td>\n",
              "      <td>1.69</td>\n",
              "      <td>1.69</td>\n",
              "      <td>0.00</td>\n",
              "      <td>Yes</td>\n",
              "      <td>0.000000</td>\n",
              "      <td>0.000000</td>\n",
              "      <td>0.00</td>\n",
              "      <td>0</td>\n",
              "    </tr>\n",
              "    <tr>\n",
              "      <th>...</th>\n",
              "      <td>...</td>\n",
              "      <td>...</td>\n",
              "      <td>...</td>\n",
              "      <td>...</td>\n",
              "      <td>...</td>\n",
              "      <td>...</td>\n",
              "      <td>...</td>\n",
              "      <td>...</td>\n",
              "      <td>...</td>\n",
              "      <td>...</td>\n",
              "      <td>...</td>\n",
              "      <td>...</td>\n",
              "      <td>...</td>\n",
              "      <td>...</td>\n",
              "      <td>...</td>\n",
              "      <td>...</td>\n",
              "      <td>...</td>\n",
              "      <td>...</td>\n",
              "    </tr>\n",
              "    <tr>\n",
              "      <th>1066</th>\n",
              "      <td>CH</td>\n",
              "      <td>252</td>\n",
              "      <td>7</td>\n",
              "      <td>1.86</td>\n",
              "      <td>2.09</td>\n",
              "      <td>0.10</td>\n",
              "      <td>0.00</td>\n",
              "      <td>0</td>\n",
              "      <td>0</td>\n",
              "      <td>0.587822</td>\n",
              "      <td>2.09</td>\n",
              "      <td>1.76</td>\n",
              "      <td>0.33</td>\n",
              "      <td>Yes</td>\n",
              "      <td>0.000000</td>\n",
              "      <td>0.053763</td>\n",
              "      <td>0.23</td>\n",
              "      <td>0</td>\n",
              "    </tr>\n",
              "    <tr>\n",
              "      <th>1067</th>\n",
              "      <td>CH</td>\n",
              "      <td>256</td>\n",
              "      <td>7</td>\n",
              "      <td>1.86</td>\n",
              "      <td>2.18</td>\n",
              "      <td>0.00</td>\n",
              "      <td>0.00</td>\n",
              "      <td>0</td>\n",
              "      <td>0</td>\n",
              "      <td>0.670258</td>\n",
              "      <td>2.18</td>\n",
              "      <td>1.86</td>\n",
              "      <td>0.32</td>\n",
              "      <td>Yes</td>\n",
              "      <td>0.000000</td>\n",
              "      <td>0.000000</td>\n",
              "      <td>0.32</td>\n",
              "      <td>0</td>\n",
              "    </tr>\n",
              "    <tr>\n",
              "      <th>1068</th>\n",
              "      <td>MM</td>\n",
              "      <td>257</td>\n",
              "      <td>7</td>\n",
              "      <td>1.86</td>\n",
              "      <td>2.18</td>\n",
              "      <td>0.00</td>\n",
              "      <td>0.00</td>\n",
              "      <td>0</td>\n",
              "      <td>0</td>\n",
              "      <td>0.736206</td>\n",
              "      <td>2.18</td>\n",
              "      <td>1.86</td>\n",
              "      <td>0.32</td>\n",
              "      <td>Yes</td>\n",
              "      <td>0.000000</td>\n",
              "      <td>0.000000</td>\n",
              "      <td>0.32</td>\n",
              "      <td>0</td>\n",
              "    </tr>\n",
              "    <tr>\n",
              "      <th>1069</th>\n",
              "      <td>CH</td>\n",
              "      <td>261</td>\n",
              "      <td>7</td>\n",
              "      <td>1.86</td>\n",
              "      <td>2.13</td>\n",
              "      <td>0.00</td>\n",
              "      <td>0.24</td>\n",
              "      <td>0</td>\n",
              "      <td>0</td>\n",
              "      <td>0.588965</td>\n",
              "      <td>1.89</td>\n",
              "      <td>1.86</td>\n",
              "      <td>0.03</td>\n",
              "      <td>Yes</td>\n",
              "      <td>0.112676</td>\n",
              "      <td>0.000000</td>\n",
              "      <td>0.27</td>\n",
              "      <td>0</td>\n",
              "    </tr>\n",
              "    <tr>\n",
              "      <th>1070</th>\n",
              "      <td>CH</td>\n",
              "      <td>270</td>\n",
              "      <td>1</td>\n",
              "      <td>1.86</td>\n",
              "      <td>2.18</td>\n",
              "      <td>0.00</td>\n",
              "      <td>0.00</td>\n",
              "      <td>0</td>\n",
              "      <td>0</td>\n",
              "      <td>0.671172</td>\n",
              "      <td>2.18</td>\n",
              "      <td>1.86</td>\n",
              "      <td>0.32</td>\n",
              "      <td>No</td>\n",
              "      <td>0.000000</td>\n",
              "      <td>0.000000</td>\n",
              "      <td>0.32</td>\n",
              "      <td>1</td>\n",
              "    </tr>\n",
              "  </tbody>\n",
              "</table>\n",
              "<p>1070 rows × 18 columns</p>\n",
              "</div>"
            ],
            "text/plain": [
              "     Purchase  WeekofPurchase  StoreID  ...  PctDiscCH  ListPriceDiff  STORE\n",
              "1          CH             237        1  ...   0.000000           0.24      1\n",
              "2          CH             239        1  ...   0.000000           0.24      1\n",
              "3          CH             245        1  ...   0.091398           0.23      1\n",
              "4          MM             227        1  ...   0.000000           0.00      1\n",
              "5          CH             228        7  ...   0.000000           0.00      0\n",
              "...       ...             ...      ...  ...        ...            ...    ...\n",
              "1066       CH             252        7  ...   0.053763           0.23      0\n",
              "1067       CH             256        7  ...   0.000000           0.32      0\n",
              "1068       MM             257        7  ...   0.000000           0.32      0\n",
              "1069       CH             261        7  ...   0.000000           0.27      0\n",
              "1070       CH             270        1  ...   0.000000           0.32      1\n",
              "\n",
              "[1070 rows x 18 columns]"
            ]
          },
          "metadata": {},
          "execution_count": 4
        }
      ]
    },
    {
      "cell_type": "code",
      "metadata": {
        "colab": {
          "base_uri": "https://localhost:8080/"
        },
        "id": "X-RfZ5KCwa3A",
        "outputId": "2ef17644-1103-4a5d-fd68-2bb3fad3ac23"
      },
      "source": [
        "oj.info()"
      ],
      "execution_count": null,
      "outputs": [
        {
          "output_type": "stream",
          "name": "stdout",
          "text": [
            "<class 'pandas.core.frame.DataFrame'>\n",
            "Int64Index: 1070 entries, 1 to 1070\n",
            "Data columns (total 18 columns):\n",
            " #   Column          Non-Null Count  Dtype  \n",
            "---  ------          --------------  -----  \n",
            " 0   Purchase        1070 non-null   object \n",
            " 1   WeekofPurchase  1070 non-null   int64  \n",
            " 2   StoreID         1070 non-null   int64  \n",
            " 3   PriceCH         1070 non-null   float64\n",
            " 4   PriceMM         1070 non-null   float64\n",
            " 5   DiscCH          1070 non-null   float64\n",
            " 6   DiscMM          1070 non-null   float64\n",
            " 7   SpecialCH       1070 non-null   int64  \n",
            " 8   SpecialMM       1070 non-null   int64  \n",
            " 9   LoyalCH         1070 non-null   float64\n",
            " 10  SalePriceMM     1070 non-null   float64\n",
            " 11  SalePriceCH     1070 non-null   float64\n",
            " 12  PriceDiff       1070 non-null   float64\n",
            " 13  Store7          1070 non-null   object \n",
            " 14  PctDiscMM       1070 non-null   float64\n",
            " 15  PctDiscCH       1070 non-null   float64\n",
            " 16  ListPriceDiff   1070 non-null   float64\n",
            " 17  STORE           1070 non-null   int64  \n",
            "dtypes: float64(11), int64(5), object(2)\n",
            "memory usage: 158.8+ KB\n"
          ]
        }
      ]
    },
    {
      "cell_type": "code",
      "metadata": {
        "colab": {
          "base_uri": "https://localhost:8080/"
        },
        "id": "3KrmDo9zua-s",
        "outputId": "03ae594b-380a-433a-93cd-e2a5b71275b2"
      },
      "source": [
        "train, test = train_test_split(oj, test_size= (len(oj)-800)/len(oj), random_state=1)\n",
        "print((len(oj)-800)/len(oj))\n",
        "y_train = train['Purchase'].to_frame(name='Purchase')\n",
        "train.drop('Purchase', axis=1, inplace=True)\n",
        "\n",
        "y_test = test['Purchase'].to_frame(name='Purchase')\n",
        "test.drop('Purchase', axis=1, inplace=True)"
      ],
      "execution_count": null,
      "outputs": [
        {
          "output_type": "stream",
          "name": "stdout",
          "text": [
            "0.2523364485981308\n"
          ]
        }
      ]
    },
    {
      "cell_type": "code",
      "metadata": {
        "colab": {
          "base_uri": "https://localhost:8080/"
        },
        "id": "IG9qhCxKuhe5",
        "outputId": "7be39cdc-5e8a-4dcc-a7ee-f43620a1162b"
      },
      "source": [
        "cat = train.select_dtypes(include=['object']).columns\n",
        "cat2 = test.select_dtypes(include=['object']).columns\n",
        "#train[[cat]].unique().value_counts()\n",
        "train[cat].value_counts()"
      ],
      "execution_count": null,
      "outputs": [
        {
          "output_type": "execute_result",
          "data": {
            "text/plain": [
              "Store7\n",
              "No        535\n",
              "Yes       265\n",
              "dtype: int64"
            ]
          },
          "metadata": {},
          "execution_count": 7
        }
      ]
    },
    {
      "cell_type": "code",
      "metadata": {
        "id": "xFV6Hcz1sHZs"
      },
      "source": [
        "def one_hot_encode_beta(train, test):\n",
        "    '''\n",
        "    This function can one hot encode the training data and the testing data at the same time, since we want to one hot encode \n",
        "    the training data and testing data in the same format. But we're just process the testing data here, and only use it in the \n",
        "    last question \n",
        "    '''\n",
        "    enc = OHE(handle_unknown='ignore') \n",
        "    onehotencoded = train.copy()\n",
        "    onehotencoded_test = test.copy()\n",
        "    \n",
        "    for col in train.columns:\n",
        "        enc.fit(train[[col]]) # use two square brackets to make it as 2 dimensional\n",
        "        \n",
        "        # handling train data\n",
        "        temp = enc.transform(train[[col]])\n",
        "        temp = pd.DataFrame(temp.todense(), columns=[(col+\"_\"+str(i)) for i in train[col].value_counts().index])\n",
        "        temp = temp.set_index(train.index.values)\n",
        "        onehotencoded = pd.concat([onehotencoded,temp],axis=1)\n",
        "        onehotencoded = onehotencoded.drop(col,axis=1)\n",
        "        \n",
        "        # handling test data\n",
        "        temp = enc.transform(test[[col]])\n",
        "        temp = pd.DataFrame(temp.todense(), columns=[(col+\"_\"+str(i)) for i in train[col].value_counts().index])\n",
        "        temp = temp.set_index(test.index.values)\n",
        "        onehotencoded_test = pd.concat([onehotencoded_test, temp],axis=1)\n",
        "        onehotencoded_test = onehotencoded_test.drop(col, axis=1)\n",
        "        \n",
        "    return onehotencoded, onehotencoded_test"
      ],
      "execution_count": null,
      "outputs": []
    },
    {
      "cell_type": "code",
      "metadata": {
        "id": "zisNwIsZy-Bb"
      },
      "source": [
        "train_encoded, test_encoded = one_hot_encode_beta(train[cat], test[cat2])"
      ],
      "execution_count": null,
      "outputs": []
    },
    {
      "cell_type": "code",
      "metadata": {
        "id": "05YsS7a7zBtE"
      },
      "source": [
        "train_ohe = pd.concat([train_encoded, train], axis=1, join=\"inner\")\n",
        "train_ohe.drop(['Store7'], axis=1, inplace=True)"
      ],
      "execution_count": null,
      "outputs": []
    },
    {
      "cell_type": "code",
      "metadata": {
        "colab": {
          "base_uri": "https://localhost:8080/",
          "height": 444
        },
        "id": "EdGHm72h03fP",
        "outputId": "e4bd6d49-c431-414c-fd10-e2c369419766"
      },
      "source": [
        "train_ohe"
      ],
      "execution_count": null,
      "outputs": [
        {
          "output_type": "execute_result",
          "data": {
            "text/html": [
              "<div>\n",
              "<style scoped>\n",
              "    .dataframe tbody tr th:only-of-type {\n",
              "        vertical-align: middle;\n",
              "    }\n",
              "\n",
              "    .dataframe tbody tr th {\n",
              "        vertical-align: top;\n",
              "    }\n",
              "\n",
              "    .dataframe thead th {\n",
              "        text-align: right;\n",
              "    }\n",
              "</style>\n",
              "<table border=\"1\" class=\"dataframe\">\n",
              "  <thead>\n",
              "    <tr style=\"text-align: right;\">\n",
              "      <th></th>\n",
              "      <th>Store7_No</th>\n",
              "      <th>Store7_Yes</th>\n",
              "      <th>WeekofPurchase</th>\n",
              "      <th>StoreID</th>\n",
              "      <th>PriceCH</th>\n",
              "      <th>PriceMM</th>\n",
              "      <th>DiscCH</th>\n",
              "      <th>DiscMM</th>\n",
              "      <th>SpecialCH</th>\n",
              "      <th>SpecialMM</th>\n",
              "      <th>LoyalCH</th>\n",
              "      <th>SalePriceMM</th>\n",
              "      <th>SalePriceCH</th>\n",
              "      <th>PriceDiff</th>\n",
              "      <th>PctDiscMM</th>\n",
              "      <th>PctDiscCH</th>\n",
              "      <th>ListPriceDiff</th>\n",
              "      <th>STORE</th>\n",
              "    </tr>\n",
              "  </thead>\n",
              "  <tbody>\n",
              "    <tr>\n",
              "      <th>953</th>\n",
              "      <td>1.0</td>\n",
              "      <td>0.0</td>\n",
              "      <td>267</td>\n",
              "      <td>2</td>\n",
              "      <td>1.86</td>\n",
              "      <td>2.18</td>\n",
              "      <td>0.0</td>\n",
              "      <td>0.4</td>\n",
              "      <td>0</td>\n",
              "      <td>1</td>\n",
              "      <td>0.003817</td>\n",
              "      <td>1.78</td>\n",
              "      <td>1.86</td>\n",
              "      <td>-0.08</td>\n",
              "      <td>0.183486</td>\n",
              "      <td>0.000000</td>\n",
              "      <td>0.32</td>\n",
              "      <td>2</td>\n",
              "    </tr>\n",
              "    <tr>\n",
              "      <th>1039</th>\n",
              "      <td>1.0</td>\n",
              "      <td>0.0</td>\n",
              "      <td>235</td>\n",
              "      <td>1</td>\n",
              "      <td>1.69</td>\n",
              "      <td>1.99</td>\n",
              "      <td>0.0</td>\n",
              "      <td>0.0</td>\n",
              "      <td>0</td>\n",
              "      <td>0</td>\n",
              "      <td>0.400000</td>\n",
              "      <td>1.99</td>\n",
              "      <td>1.69</td>\n",
              "      <td>0.30</td>\n",
              "      <td>0.000000</td>\n",
              "      <td>0.000000</td>\n",
              "      <td>0.30</td>\n",
              "      <td>1</td>\n",
              "    </tr>\n",
              "    <tr>\n",
              "      <th>387</th>\n",
              "      <td>1.0</td>\n",
              "      <td>0.0</td>\n",
              "      <td>229</td>\n",
              "      <td>2</td>\n",
              "      <td>1.69</td>\n",
              "      <td>1.69</td>\n",
              "      <td>0.0</td>\n",
              "      <td>0.0</td>\n",
              "      <td>0</td>\n",
              "      <td>0</td>\n",
              "      <td>0.165373</td>\n",
              "      <td>1.69</td>\n",
              "      <td>1.69</td>\n",
              "      <td>0.00</td>\n",
              "      <td>0.000000</td>\n",
              "      <td>0.000000</td>\n",
              "      <td>0.00</td>\n",
              "      <td>2</td>\n",
              "    </tr>\n",
              "    <tr>\n",
              "      <th>974</th>\n",
              "      <td>1.0</td>\n",
              "      <td>0.0</td>\n",
              "      <td>243</td>\n",
              "      <td>1</td>\n",
              "      <td>1.86</td>\n",
              "      <td>1.99</td>\n",
              "      <td>0.0</td>\n",
              "      <td>0.8</td>\n",
              "      <td>0</td>\n",
              "      <td>1</td>\n",
              "      <td>0.314957</td>\n",
              "      <td>1.19</td>\n",
              "      <td>1.86</td>\n",
              "      <td>-0.67</td>\n",
              "      <td>0.402010</td>\n",
              "      <td>0.000000</td>\n",
              "      <td>0.13</td>\n",
              "      <td>1</td>\n",
              "    </tr>\n",
              "    <tr>\n",
              "      <th>239</th>\n",
              "      <td>0.0</td>\n",
              "      <td>1.0</td>\n",
              "      <td>250</td>\n",
              "      <td>7</td>\n",
              "      <td>1.86</td>\n",
              "      <td>2.09</td>\n",
              "      <td>0.0</td>\n",
              "      <td>0.0</td>\n",
              "      <td>0</td>\n",
              "      <td>0</td>\n",
              "      <td>0.820592</td>\n",
              "      <td>2.09</td>\n",
              "      <td>1.86</td>\n",
              "      <td>0.23</td>\n",
              "      <td>0.000000</td>\n",
              "      <td>0.000000</td>\n",
              "      <td>0.23</td>\n",
              "      <td>0</td>\n",
              "    </tr>\n",
              "    <tr>\n",
              "      <th>...</th>\n",
              "      <td>...</td>\n",
              "      <td>...</td>\n",
              "      <td>...</td>\n",
              "      <td>...</td>\n",
              "      <td>...</td>\n",
              "      <td>...</td>\n",
              "      <td>...</td>\n",
              "      <td>...</td>\n",
              "      <td>...</td>\n",
              "      <td>...</td>\n",
              "      <td>...</td>\n",
              "      <td>...</td>\n",
              "      <td>...</td>\n",
              "      <td>...</td>\n",
              "      <td>...</td>\n",
              "      <td>...</td>\n",
              "      <td>...</td>\n",
              "      <td>...</td>\n",
              "    </tr>\n",
              "    <tr>\n",
              "      <th>848</th>\n",
              "      <td>1.0</td>\n",
              "      <td>0.0</td>\n",
              "      <td>275</td>\n",
              "      <td>2</td>\n",
              "      <td>1.96</td>\n",
              "      <td>2.18</td>\n",
              "      <td>0.0</td>\n",
              "      <td>0.8</td>\n",
              "      <td>0</td>\n",
              "      <td>1</td>\n",
              "      <td>0.168709</td>\n",
              "      <td>1.38</td>\n",
              "      <td>1.96</td>\n",
              "      <td>-0.58</td>\n",
              "      <td>0.366972</td>\n",
              "      <td>0.000000</td>\n",
              "      <td>0.22</td>\n",
              "      <td>2</td>\n",
              "    </tr>\n",
              "    <tr>\n",
              "      <th>716</th>\n",
              "      <td>1.0</td>\n",
              "      <td>0.0</td>\n",
              "      <td>267</td>\n",
              "      <td>3</td>\n",
              "      <td>1.99</td>\n",
              "      <td>2.09</td>\n",
              "      <td>0.1</td>\n",
              "      <td>0.0</td>\n",
              "      <td>0</td>\n",
              "      <td>0</td>\n",
              "      <td>0.000130</td>\n",
              "      <td>2.09</td>\n",
              "      <td>1.89</td>\n",
              "      <td>0.20</td>\n",
              "      <td>0.000000</td>\n",
              "      <td>0.050251</td>\n",
              "      <td>0.10</td>\n",
              "      <td>3</td>\n",
              "    </tr>\n",
              "    <tr>\n",
              "      <th>906</th>\n",
              "      <td>0.0</td>\n",
              "      <td>1.0</td>\n",
              "      <td>231</td>\n",
              "      <td>7</td>\n",
              "      <td>1.69</td>\n",
              "      <td>1.99</td>\n",
              "      <td>0.0</td>\n",
              "      <td>0.0</td>\n",
              "      <td>0</td>\n",
              "      <td>0</td>\n",
              "      <td>0.256000</td>\n",
              "      <td>1.99</td>\n",
              "      <td>1.69</td>\n",
              "      <td>0.30</td>\n",
              "      <td>0.000000</td>\n",
              "      <td>0.000000</td>\n",
              "      <td>0.30</td>\n",
              "      <td>0</td>\n",
              "    </tr>\n",
              "    <tr>\n",
              "      <th>236</th>\n",
              "      <td>1.0</td>\n",
              "      <td>0.0</td>\n",
              "      <td>236</td>\n",
              "      <td>3</td>\n",
              "      <td>1.79</td>\n",
              "      <td>2.09</td>\n",
              "      <td>0.0</td>\n",
              "      <td>0.0</td>\n",
              "      <td>0</td>\n",
              "      <td>0</td>\n",
              "      <td>0.649594</td>\n",
              "      <td>2.09</td>\n",
              "      <td>1.79</td>\n",
              "      <td>0.30</td>\n",
              "      <td>0.000000</td>\n",
              "      <td>0.000000</td>\n",
              "      <td>0.30</td>\n",
              "      <td>3</td>\n",
              "    </tr>\n",
              "    <tr>\n",
              "      <th>1062</th>\n",
              "      <td>1.0</td>\n",
              "      <td>0.0</td>\n",
              "      <td>242</td>\n",
              "      <td>1</td>\n",
              "      <td>1.86</td>\n",
              "      <td>1.99</td>\n",
              "      <td>0.0</td>\n",
              "      <td>0.3</td>\n",
              "      <td>0</td>\n",
              "      <td>1</td>\n",
              "      <td>0.556206</td>\n",
              "      <td>1.69</td>\n",
              "      <td>1.86</td>\n",
              "      <td>-0.17</td>\n",
              "      <td>0.150754</td>\n",
              "      <td>0.000000</td>\n",
              "      <td>0.13</td>\n",
              "      <td>1</td>\n",
              "    </tr>\n",
              "  </tbody>\n",
              "</table>\n",
              "<p>800 rows × 18 columns</p>\n",
              "</div>"
            ],
            "text/plain": [
              "      Store7_No  Store7_Yes  WeekofPurchase  ...  PctDiscCH  ListPriceDiff  STORE\n",
              "953         1.0         0.0             267  ...   0.000000           0.32      2\n",
              "1039        1.0         0.0             235  ...   0.000000           0.30      1\n",
              "387         1.0         0.0             229  ...   0.000000           0.00      2\n",
              "974         1.0         0.0             243  ...   0.000000           0.13      1\n",
              "239         0.0         1.0             250  ...   0.000000           0.23      0\n",
              "...         ...         ...             ...  ...        ...            ...    ...\n",
              "848         1.0         0.0             275  ...   0.000000           0.22      2\n",
              "716         1.0         0.0             267  ...   0.050251           0.10      3\n",
              "906         0.0         1.0             231  ...   0.000000           0.30      0\n",
              "236         1.0         0.0             236  ...   0.000000           0.30      3\n",
              "1062        1.0         0.0             242  ...   0.000000           0.13      1\n",
              "\n",
              "[800 rows x 18 columns]"
            ]
          },
          "metadata": {},
          "execution_count": 11
        }
      ]
    },
    {
      "cell_type": "code",
      "metadata": {
        "id": "S6ShkWJ4MkSU"
      },
      "source": [
        "test_ohe = pd.concat([test_encoded, test], axis=1, join=\"inner\")\n",
        "test_ohe.drop(['Store7'], axis=1, inplace=True)"
      ],
      "execution_count": null,
      "outputs": []
    },
    {
      "cell_type": "code",
      "metadata": {
        "id": "cW6s0wLm18-O"
      },
      "source": [
        "y_train = pd.get_dummies(y_train)\n",
        "y_train.drop(['Purchase_CH'], axis=1, inplace=True) #CM==1, MM==0"
      ],
      "execution_count": null,
      "outputs": []
    },
    {
      "cell_type": "code",
      "metadata": {
        "id": "V0gm54R6MpU-"
      },
      "source": [
        "y_test = pd.get_dummies(y_test)\n",
        "y_test.drop(['Purchase_CH'], axis=1, inplace=True) #CM==1, MM==0"
      ],
      "execution_count": null,
      "outputs": []
    },
    {
      "cell_type": "code",
      "metadata": {
        "colab": {
          "base_uri": "https://localhost:8080/",
          "height": 424
        },
        "id": "jMpJUmfz4n_C",
        "outputId": "bb36ff2e-a977-47b6-a24e-333eb79f17d0"
      },
      "source": [
        "y_test"
      ],
      "execution_count": null,
      "outputs": [
        {
          "output_type": "execute_result",
          "data": {
            "text/html": [
              "<div>\n",
              "<style scoped>\n",
              "    .dataframe tbody tr th:only-of-type {\n",
              "        vertical-align: middle;\n",
              "    }\n",
              "\n",
              "    .dataframe tbody tr th {\n",
              "        vertical-align: top;\n",
              "    }\n",
              "\n",
              "    .dataframe thead th {\n",
              "        text-align: right;\n",
              "    }\n",
              "</style>\n",
              "<table border=\"1\" class=\"dataframe\">\n",
              "  <thead>\n",
              "    <tr style=\"text-align: right;\">\n",
              "      <th></th>\n",
              "      <th>Purchase_MM</th>\n",
              "    </tr>\n",
              "  </thead>\n",
              "  <tbody>\n",
              "    <tr>\n",
              "      <th>121</th>\n",
              "      <td>0</td>\n",
              "    </tr>\n",
              "    <tr>\n",
              "      <th>375</th>\n",
              "      <td>1</td>\n",
              "    </tr>\n",
              "    <tr>\n",
              "      <th>91</th>\n",
              "      <td>0</td>\n",
              "    </tr>\n",
              "    <tr>\n",
              "      <th>845</th>\n",
              "      <td>1</td>\n",
              "    </tr>\n",
              "    <tr>\n",
              "      <th>650</th>\n",
              "      <td>0</td>\n",
              "    </tr>\n",
              "    <tr>\n",
              "      <th>...</th>\n",
              "      <td>...</td>\n",
              "    </tr>\n",
              "    <tr>\n",
              "      <th>575</th>\n",
              "      <td>1</td>\n",
              "    </tr>\n",
              "    <tr>\n",
              "      <th>790</th>\n",
              "      <td>1</td>\n",
              "    </tr>\n",
              "    <tr>\n",
              "      <th>330</th>\n",
              "      <td>0</td>\n",
              "    </tr>\n",
              "    <tr>\n",
              "      <th>51</th>\n",
              "      <td>1</td>\n",
              "    </tr>\n",
              "    <tr>\n",
              "      <th>660</th>\n",
              "      <td>0</td>\n",
              "    </tr>\n",
              "  </tbody>\n",
              "</table>\n",
              "<p>270 rows × 1 columns</p>\n",
              "</div>"
            ],
            "text/plain": [
              "     Purchase_MM\n",
              "121            0\n",
              "375            1\n",
              "91             0\n",
              "845            1\n",
              "650            0\n",
              "..           ...\n",
              "575            1\n",
              "790            1\n",
              "330            0\n",
              "51             1\n",
              "660            0\n",
              "\n",
              "[270 rows x 1 columns]"
            ]
          },
          "metadata": {},
          "execution_count": 15
        }
      ]
    },
    {
      "cell_type": "code",
      "metadata": {
        "id": "e9nFu-RXpVy3"
      },
      "source": [
        "scaler = StandardScaler()\n",
        "X = scaler.fit_transform(train_ohe)\n",
        "X_test = scaler.fit_transform(test_ohe)"
      ],
      "execution_count": null,
      "outputs": []
    },
    {
      "cell_type": "code",
      "metadata": {
        "colab": {
          "base_uri": "https://localhost:8080/"
        },
        "id": "0WNccSW6-EdS",
        "outputId": "bf8413ec-54b9-4229-8f0b-c5055b0bb4d0"
      },
      "source": [
        "svm_clf = svm.SVC(kernel='linear', C=0.01).fit(train_ohe, y_train)\n",
        "y_pred_train = svm_clf.predict(train_ohe)\n",
        "coef_train = svm_clf.coef_ #shouls have 18 variables\n",
        "print('The training error rate with Linear SVM is:', 1 - svm_clf.score(train_ohe, y_train))\n",
        "print('The testing error rate with Linear SVM is:', 1 - svm_clf.score(test_ohe, y_test))"
      ],
      "execution_count": null,
      "outputs": [
        {
          "output_type": "stream",
          "name": "stdout",
          "text": [
            "The training error rate with Linear SVM is: 0.31000000000000005\n",
            "The testing error rate with Linear SVM is: 0.3592592592592593\n"
          ]
        },
        {
          "output_type": "stream",
          "name": "stderr",
          "text": [
            "/usr/local/lib/python3.7/dist-packages/sklearn/utils/validation.py:985: DataConversionWarning: A column-vector y was passed when a 1d array was expected. Please change the shape of y to (n_samples, ), for example using ravel().\n",
            "  y = column_or_1d(y, warn=True)\n"
          ]
        }
      ]
    },
    {
      "cell_type": "code",
      "metadata": {
        "colab": {
          "base_uri": "https://localhost:8080/"
        },
        "id": "77W2kzZ4DIXl",
        "outputId": "2c0d15e1-96f9-43ea-f4ed-efb7a50233c2"
      },
      "source": [
        "print('Report learned coefficients:\\n', coef_train)"
      ],
      "execution_count": null,
      "outputs": [
        {
          "output_type": "stream",
          "name": "stdout",
          "text": [
            "Report learned coefficients:\n",
            " [[ 0.00918673 -0.00918673 -0.00354291 -0.07624217  0.02760571 -0.03228162\n",
            "  -0.03806063  0.13881415 -0.0582911   0.3        -0.96800332 -0.17109577\n",
            "   0.06566634 -0.23676211  0.06454517 -0.02042715 -0.05988733 -0.01193506]]\n"
          ]
        }
      ]
    },
    {
      "cell_type": "code",
      "metadata": {
        "colab": {
          "base_uri": "https://localhost:8080/"
        },
        "id": "Y5sgadepHXDU",
        "outputId": "dd149c9e-1d63-4a99-d76d-913b8e7abd24"
      },
      "source": [
        "print(np.linspace(-2, 1, 10+1))"
      ],
      "execution_count": null,
      "outputs": [
        {
          "output_type": "stream",
          "name": "stdout",
          "text": [
            "[-2.  -1.7 -1.4 -1.1 -0.8 -0.5 -0.2  0.1  0.4  0.7  1. ]\n"
          ]
        }
      ]
    },
    {
      "cell_type": "markdown",
      "metadata": {
        "id": "vhxe_CJeRtQs"
      },
      "source": [
        "Use cross validation to select an optimal cost (C) and report a CV error plot. Consider values in the range 0.01 to 10. What C is the best using the one-stderr rule?"
      ]
    },
    {
      "cell_type": "code",
      "metadata": {
        "id": "dVouJkW3RUAm"
      },
      "source": [
        "bins = 20\n",
        "exps = np.linspace(-2, 1, bins+1)\n",
        "c_params = [10**i for i in exps]\n",
        "parameters = {'C': c_params}\n",
        "\n",
        "svc = svm.SVC(kernel='linear')\n",
        "clf = GridSearchCV(svc, parameters)\n",
        "clf.fit(train_ohe, y_train)"
      ],
      "execution_count": null,
      "outputs": []
    },
    {
      "cell_type": "code",
      "metadata": {
        "colab": {
          "base_uri": "https://localhost:8080/"
        },
        "id": "ELaWTfbIU9RH",
        "outputId": "bc39a28c-faba-4935-c9b9-d11eaa6c2ece"
      },
      "source": [
        "print(c_params)"
      ],
      "execution_count": null,
      "outputs": [
        {
          "output_type": "stream",
          "name": "stdout",
          "text": [
            "[0.01, 0.01412537544622754, 0.0199526231496888, 0.028183829312644536, 0.039810717055349734, 0.05623413251903491, 0.07943282347242814, 0.11220184543019636, 0.15848931924611134, 0.2238721138568339, 0.31622776601683794, 0.44668359215096304, 0.630957344480193, 0.8912509381337455, 1.2589254117941675, 1.7782794100389228, 2.5118864315095797, 3.5481338923357533, 5.01187233627272, 7.07945784384138, 10.0]\n"
          ]
        }
      ]
    },
    {
      "cell_type": "code",
      "metadata": {
        "colab": {
          "base_uri": "https://localhost:8080/"
        },
        "id": "L0KWdWh7YMgL",
        "outputId": "0b57595e-04a2-49c8-8551-a484e3a34125"
      },
      "source": [
        "print(clf.best_params_)"
      ],
      "execution_count": null,
      "outputs": [
        {
          "output_type": "stream",
          "name": "stdout",
          "text": [
            "{'C': 10.0}\n"
          ]
        }
      ]
    },
    {
      "cell_type": "code",
      "metadata": {
        "colab": {
          "base_uri": "https://localhost:8080/"
        },
        "id": "zHRjJnPRHqEB",
        "outputId": "12122424-8054-4917-edb3-2b6e844a380a"
      },
      "source": [
        "# linspace run\n",
        "print(clf.cv_results_['mean_test_score'])\n",
        "print(clf.cv_results_['params'])"
      ],
      "execution_count": null,
      "outputs": [
        {
          "output_type": "stream",
          "name": "stdout",
          "text": [
            "[0.6625  0.72125 0.79    0.7975  0.81375 0.82375 0.82125 0.8225  0.8225\n",
            " 0.82375 0.825   0.82625 0.8225  0.82875 0.825   0.8275  0.8275  0.82375\n",
            " 0.8225  0.82625 0.82875]\n",
            "[{'C': 0.01}, {'C': 0.01412537544622754}, {'C': 0.0199526231496888}, {'C': 0.028183829312644536}, {'C': 0.039810717055349734}, {'C': 0.05623413251903491}, {'C': 0.07943282347242814}, {'C': 0.11220184543019636}, {'C': 0.15848931924611134}, {'C': 0.2238721138568339}, {'C': 0.31622776601683794}, {'C': 0.44668359215096304}, {'C': 0.630957344480193}, {'C': 0.8912509381337455}, {'C': 1.2589254117941675}, {'C': 1.7782794100389228}, {'C': 2.5118864315095797}, {'C': 3.5481338923357533}, {'C': 5.01187233627272}, {'C': 7.07945784384138}, {'C': 10.0}]\n"
          ]
        }
      ]
    },
    {
      "cell_type": "code",
      "metadata": {
        "colab": {
          "base_uri": "https://localhost:8080/",
          "height": 315
        },
        "id": "-ukHNbVnHxpa",
        "outputId": "c5d77c67-cf77-45da-fa53-da3b685f3439"
      },
      "source": [
        "y = clf.cv_results_['mean_test_score']\n",
        "x = c_params\n",
        "y_error = 1-y\n",
        "cv_min = np.min(y_error)\n",
        "\n",
        "plt.plot(x, y_error, '^--')\n",
        "plt.xscale('log')\n",
        "for i, k in enumerate(x):\n",
        "   plt.annotate('{:.3f}'.format(k), (x[i], y_error[i]), rotation=45)\n",
        "plt.axhline(cv_min+np.std(y_error), linestyle='dotted', label='Best + One SE')\n",
        "plt.xlabel('Value of C')\n",
        "plt.ylabel('cross validation error')\n",
        "plt.show()\n",
        "\n",
        "print('The small C with in one standard error is:', x[3])"
      ],
      "execution_count": null,
      "outputs": [
        {
          "output_type": "display_data",
          "data": {
            "image/png": "[encoded data removed]",
            "text/plain": [
              "<Figure size 432x288 with 1 Axes>"
            ]
          },
          "metadata": {
            "needs_background": "light"
          }
        },
        {
          "output_type": "stream",
          "name": "stdout",
          "text": [
            "The small C with in one standard error is: 0.028183829312644536\n"
          ]
        }
      ]
    },
    {
      "cell_type": "code",
      "metadata": {
        "colab": {
          "base_uri": "https://localhost:8080/"
        },
        "id": "ta_ea9_i9Ppk",
        "outputId": "f48bc85a-ca98-4be0-87e6-5208c9d53293"
      },
      "source": [
        "print(clf.best_score_)\n",
        "good_c = x[3]\n",
        "print(good_c)"
      ],
      "execution_count": null,
      "outputs": [
        {
          "output_type": "stream",
          "name": "stdout",
          "text": [
            "0.8287500000000001\n",
            "0.028183829312644536\n"
          ]
        }
      ]
    },
    {
      "cell_type": "markdown",
      "metadata": {
        "id": "fG4_QDUkbQE9"
      },
      "source": [
        "Compute the training and test error rates using this new value for cost."
      ]
    },
    {
      "cell_type": "code",
      "metadata": {
        "colab": {
          "base_uri": "https://localhost:8080/"
        },
        "id": "Nl6wgEU5bQp9",
        "outputId": "9688c820-6c9a-46c8-b226-14233ff0ffcd"
      },
      "source": [
        "svm_clf_10 = svm.SVC(kernel='linear', C=good_c).fit(train_ohe, y_train)\n",
        "y_pred_train_10 = svm_clf_10.predict(train_ohe)\n",
        "print('The training error rate for C=0.0028 is:', 1 - svm_clf_10.score(train_ohe, y_train))\n",
        "print('The testing error rate for C=0.0028 is:', 1 - svm_clf_10.score(test_ohe, y_test))"
      ],
      "execution_count": null,
      "outputs": [
        {
          "output_type": "stream",
          "name": "stdout",
          "text": [
            "The training error rate for C=0.0028 is: 0.1825\n",
            "The testing error rate for C=0.0028 is: 0.18518518518518523\n"
          ]
        },
        {
          "output_type": "stream",
          "name": "stderr",
          "text": [
            "/usr/local/lib/python3.7/dist-packages/sklearn/utils/validation.py:985: DataConversionWarning: A column-vector y was passed when a 1d array was expected. Please change the shape of y to (n_samples, ), for example using ravel().\n",
            "  y = column_or_1d(y, warn=True)\n"
          ]
        }
      ]
    },
    {
      "cell_type": "markdown",
      "metadata": {
        "id": "Jl3dt1qpUPYE"
      },
      "source": [
        "### f. a support vector classifier with a radial bassis function (RBF) kernel"
      ]
    },
    {
      "cell_type": "code",
      "metadata": {
        "colab": {
          "base_uri": "https://localhost:8080/"
        },
        "id": "2eFXS6oYcBkq",
        "outputId": "37e34df2-4ab4-4171-afc8-a8d8e8efa52f"
      },
      "source": [
        "rbf_clf = SVC(kernel='rbf',gamma='scale', C=1)\n",
        "rbf_clf.fit(X, y_train)\n",
        "print('The training error rate with RBF SVM is:', 1 - rbf_clf.score(X, y_train))\n",
        "print('The testing error rate with RBF SVM is:', 1 - rbf_clf.score(X_test, y_test))"
      ],
      "execution_count": null,
      "outputs": [
        {
          "output_type": "stream",
          "name": "stdout",
          "text": [
            "The training error rate with RBF SVM is: 0.15749999999999997\n",
            "The testing error rate with RBF SVM is: 0.18888888888888888\n"
          ]
        },
        {
          "output_type": "stream",
          "name": "stderr",
          "text": [
            "/usr/local/lib/python3.7/dist-packages/sklearn/utils/validation.py:985: DataConversionWarning: A column-vector y was passed when a 1d array was expected. Please change the shape of y to (n_samples, ), for example using ravel().\n",
            "  y = column_or_1d(y, warn=True)\n"
          ]
        }
      ]
    },
    {
      "cell_type": "code",
      "metadata": {
        "id": "lZAieH7x8IcS"
      },
      "source": [
        "parameters_gamma = {'gamma': parameters2}\n",
        "svc = SVC(kernel='rbf', C=1)\n",
        "clf_cv_gamma = GridSearchCV(svc, parameters_gamma)\n",
        "clf_cv_gamma.fit(X, y_train)"
      ],
      "execution_count": null,
      "outputs": []
    },
    {
      "cell_type": "code",
      "metadata": {
        "colab": {
          "base_uri": "https://localhost:8080/"
        },
        "id": "7qA-E-5NQAEw",
        "outputId": "aec55c32-923d-410f-d15c-fcaab6839bcb"
      },
      "source": [
        "print(clf_cv_gamma.best_params_)\n",
        "print(clf_cv_gamma.cv_results_['mean_test_score'])\n",
        "print(clf_cv_gamma.cv_results_['params'])\n",
        "print(1- clf_cv_gamma.cv_results_['mean_test_score'])"
      ],
      "execution_count": null,
      "outputs": [
        {
          "output_type": "stream",
          "name": "stdout",
          "text": [
            "{'gamma': 0.01}\n",
            "[0.82625 0.81375 0.78625 0.77125 0.765   0.76375 0.7575  0.7575  0.75625\n",
            " 0.755  ]\n",
            "[{'gamma': 0.01}, {'gamma': 0.1}, {'gamma': 0.5}, {'gamma': 1}, {'gamma': 2}, {'gamma': 2.5}, {'gamma': 3}, {'gamma': 5}, {'gamma': 7}, {'gamma': 10}]\n",
            "[0.17375 0.18625 0.21375 0.22875 0.235   0.23625 0.2425  0.2425  0.24375\n",
            " 0.245  ]\n"
          ]
        }
      ]
    },
    {
      "cell_type": "code",
      "metadata": {
        "colab": {
          "base_uri": "https://localhost:8080/",
          "height": 316
        },
        "id": "HRqD-g9KeLX2",
        "outputId": "b4c0a274-9433-4db0-8131-cde675714632"
      },
      "source": [
        "y_gamma = 1 - clf_cv_gamma.cv_results_['mean_test_score']\n",
        "x_gamma = parameters2\n",
        "cv_gamma_min = np.min(y_gamma)\n",
        "\n",
        "plt.plot(x_gamma, y_gamma, '^--')\n",
        "for i, k in enumerate(x_gamma):\n",
        "   plt.annotate('{:.3f}'.format(k), (x_gamma[i], y_gamma[i]), rotation=45)\n",
        "plt.axhline(cv_gamma_min+np.std(y_gamma), linestyle='dotted', label='Best + One SE')\n",
        "plt.xlabel('Value of Gamma')\n",
        "plt.ylabel('cross validation error')\n",
        "plt.show()\n",
        "\n",
        "print('The small C with in one standard error is:', x_gamma[3])"
      ],
      "execution_count": null,
      "outputs": [
        {
          "output_type": "display_data",
          "data": {
            "image/png": "[encoded data removed]",
            "text/plain": [
              "<Figure size 432x288 with 1 Axes>"
            ]
          },
          "metadata": {
            "needs_background": "light"
          }
        },
        {
          "output_type": "stream",
          "name": "stdout",
          "text": [
            "The small C with in one standard error is: 1\n"
          ]
        }
      ]
    },
    {
      "cell_type": "code",
      "metadata": {
        "id": "qhmg9JvXzJC5",
        "colab": {
          "base_uri": "https://localhost:8080/"
        },
        "outputId": "d65d469b-1c06-401c-a718-e5cad0bab840"
      },
      "source": [
        "parameters2 = [0.01, 0.1, 0.5, 1, 2, 2.5, 3, 5, 7, 10]\n",
        "score = []\n",
        "\n",
        "for i in range(len(parameters2)):\n",
        "  clf_cv1 = SVC(kernel='rbf',gamma=parameters2[i], C=1)\n",
        "  clf_cv1.fit(X, y_train)\n",
        "  score.append(1 - clf_cv1.score(X, y_train))"
      ],
      "execution_count": null,
      "outputs": [
        {
          "output_type": "stream",
          "name": "stderr",
          "text": [
            "/usr/local/lib/python3.7/dist-packages/sklearn/utils/validation.py:985: DataConversionWarning: A column-vector y was passed when a 1d array was expected. Please change the shape of y to (n_samples, ), for example using ravel().\n",
            "  y = column_or_1d(y, warn=True)\n",
            "/usr/local/lib/python3.7/dist-packages/sklearn/utils/validation.py:985: DataConversionWarning: A column-vector y was passed when a 1d array was expected. Please change the shape of y to (n_samples, ), for example using ravel().\n",
            "  y = column_or_1d(y, warn=True)\n",
            "/usr/local/lib/python3.7/dist-packages/sklearn/utils/validation.py:985: DataConversionWarning: A column-vector y was passed when a 1d array was expected. Please change the shape of y to (n_samples, ), for example using ravel().\n",
            "  y = column_or_1d(y, warn=True)\n",
            "/usr/local/lib/python3.7/dist-packages/sklearn/utils/validation.py:985: DataConversionWarning: A column-vector y was passed when a 1d array was expected. Please change the shape of y to (n_samples, ), for example using ravel().\n",
            "  y = column_or_1d(y, warn=True)\n",
            "/usr/local/lib/python3.7/dist-packages/sklearn/utils/validation.py:985: DataConversionWarning: A column-vector y was passed when a 1d array was expected. Please change the shape of y to (n_samples, ), for example using ravel().\n",
            "  y = column_or_1d(y, warn=True)\n",
            "/usr/local/lib/python3.7/dist-packages/sklearn/utils/validation.py:985: DataConversionWarning: A column-vector y was passed when a 1d array was expected. Please change the shape of y to (n_samples, ), for example using ravel().\n",
            "  y = column_or_1d(y, warn=True)\n",
            "/usr/local/lib/python3.7/dist-packages/sklearn/utils/validation.py:985: DataConversionWarning: A column-vector y was passed when a 1d array was expected. Please change the shape of y to (n_samples, ), for example using ravel().\n",
            "  y = column_or_1d(y, warn=True)\n",
            "/usr/local/lib/python3.7/dist-packages/sklearn/utils/validation.py:985: DataConversionWarning: A column-vector y was passed when a 1d array was expected. Please change the shape of y to (n_samples, ), for example using ravel().\n",
            "  y = column_or_1d(y, warn=True)\n",
            "/usr/local/lib/python3.7/dist-packages/sklearn/utils/validation.py:985: DataConversionWarning: A column-vector y was passed when a 1d array was expected. Please change the shape of y to (n_samples, ), for example using ravel().\n",
            "  y = column_or_1d(y, warn=True)\n",
            "/usr/local/lib/python3.7/dist-packages/sklearn/utils/validation.py:985: DataConversionWarning: A column-vector y was passed when a 1d array was expected. Please change the shape of y to (n_samples, ), for example using ravel().\n",
            "  y = column_or_1d(y, warn=True)\n"
          ]
        }
      ]
    },
    {
      "cell_type": "code",
      "metadata": {
        "colab": {
          "base_uri": "https://localhost:8080/"
        },
        "id": "p8m0V9S5ixzZ",
        "outputId": "01e380c9-9086-41e7-811f-dd1cc4eebaba"
      },
      "source": [
        "print(1 - np.array(score))"
      ],
      "execution_count": null,
      "outputs": [
        {
          "output_type": "stream",
          "name": "stdout",
          "text": [
            "[0.6375  0.76875 0.62    0.62    0.62    0.62    0.62    0.62    0.62\n",
            " 0.62   ]\n"
          ]
        }
      ]
    },
    {
      "cell_type": "code",
      "metadata": {
        "colab": {
          "base_uri": "https://localhost:8080/"
        },
        "id": "gvOrm3H9jJ__",
        "outputId": "b9a9ba61-5b30-4d78-bc38-186f5e04b198"
      },
      "source": [
        "score"
      ],
      "execution_count": null,
      "outputs": [
        {
          "output_type": "execute_result",
          "data": {
            "text/plain": [
              "[0.16000000000000003,\n",
              " 0.15000000000000002,\n",
              " 0.13124999999999998,\n",
              " 0.11750000000000005,\n",
              " 0.10499999999999998,\n",
              " 0.09624999999999995,\n",
              " 0.09125000000000005,\n",
              " 0.08499999999999996,\n",
              " 0.07625000000000004,\n",
              " 0.0675]"
            ]
          },
          "metadata": {},
          "execution_count": 84
        }
      ]
    },
    {
      "cell_type": "code",
      "metadata": {
        "colab": {
          "base_uri": "https://localhost:8080/",
          "height": 312
        },
        "id": "aCZqpBE5i-Ym",
        "outputId": "422b2668-a97d-4052-9d8e-ca809fdbbc1b"
      },
      "source": [
        "y_gamma = score\n",
        "x_gamma = parameters2\n",
        "cv_gamma_min = np.min(y_gamma)\n",
        "\n",
        "plt.plot(x_gamma, y_gamma, '^--')\n",
        "for i, k in enumerate(x_gamma):\n",
        "   plt.annotate('{:.3f}'.format(k), (x_gamma[i], y_gamma[i]), rotation=45)\n",
        "plt.axhline(cv_gamma_min+np.std(y_gamma), linestyle='dotted', label='Best + One SE')\n",
        "plt.xlabel('Value of Gamma')\n",
        "plt.ylabel('cross validation error')\n",
        "plt.show()\n",
        "\n",
        "print('The small C with in one standard error is:', x_gamma[3])"
      ],
      "execution_count": null,
      "outputs": [
        {
          "output_type": "display_data",
          "data": {
            "image/png": "[encoded data removed]",
            "text/plain": [
              "<Figure size 432x288 with 1 Axes>"
            ]
          },
          "metadata": {
            "needs_background": "light"
          }
        },
        {
          "output_type": "stream",
          "name": "stdout",
          "text": [
            "The small C with in one standard error is: 1\n"
          ]
        }
      ]
    },
    {
      "cell_type": "markdown",
      "metadata": {
        "id": "L5YqVUJ01rGG"
      },
      "source": [
        "### Compute the training and test error rates using this new value for gamma."
      ]
    },
    {
      "cell_type": "code",
      "metadata": {
        "id": "6DadATo-11jw"
      },
      "source": [
        "best_gamma = 0.5"
      ],
      "execution_count": null,
      "outputs": []
    },
    {
      "cell_type": "code",
      "metadata": {
        "colab": {
          "base_uri": "https://localhost:8080/"
        },
        "id": "TVhLqxvHksz3",
        "outputId": "19761d85-7ac7-4377-bd3a-e82c88f6af5e"
      },
      "source": [
        "rbf_clf_gamma = SVC(kernel='rbf',gamma=best_gamma, C=1.5).fit(X, y_train)\n",
        "print('The training error rate with RBF SVM is:', 1 - rbf_clf_gamma.score(X, y_train))\n",
        "print('The testing error rate with RBF SVM is:', 1 - rbf_clf_gamma.score(X_test, y_test))"
      ],
      "execution_count": null,
      "outputs": [
        {
          "output_type": "stream",
          "name": "stdout",
          "text": [
            "The training error rate with RBF SVM is: 0.12624999999999997\n",
            "The testing error rate with RBF SVM is: 0.20370370370370372\n"
          ]
        },
        {
          "output_type": "stream",
          "name": "stderr",
          "text": [
            "/usr/local/lib/python3.7/dist-packages/sklearn/utils/validation.py:985: DataConversionWarning: A column-vector y was passed when a 1d array was expected. Please change the shape of y to (n_samples, ), for example using ravel().\n",
            "  y = column_or_1d(y, warn=True)\n"
          ]
        }
      ]
    },
    {
      "cell_type": "markdown",
      "metadata": {
        "id": "6D2qupJ_35WZ"
      },
      "source": [
        "Notice that when gamma is too big, our data is more likely to overfit."
      ]
    },
    {
      "cell_type": "markdown",
      "metadata": {
        "id": "saetWUeo4Mbk"
      },
      "source": [
        "### h. Repeat parts (b) through (e) using a support vector machine with a polynomial kernel. Set degree=2 and use cross validation again to choose an appropriate gamma."
      ]
    },
    {
      "cell_type": "code",
      "metadata": {
        "colab": {
          "base_uri": "https://localhost:8080/"
        },
        "id": "vBYMRTJC2OpK",
        "outputId": "9b186796-2fca-4990-88d7-5c31cc3cdc9e"
      },
      "source": [
        " svm_poly = SVC(kernel='poly',degree=2, coef0=1, gamma=0.1, C=1).fit(X, y_train)\n",
        " print('The error of training data for poynomial kenel is:', 1 - svm_poly.score(X, y_train))\n",
        " print('The error of testing data for poynomial kenel is:', 1 - svm_poly.score(X_test, y_test))"
      ],
      "execution_count": null,
      "outputs": [
        {
          "output_type": "stream",
          "name": "stdout",
          "text": [
            "The error of training data for poynomial kenel is: 0.14375000000000004\n",
            "The error of testing data for poynomial kenel is: 0.1962962962962963\n"
          ]
        },
        {
          "output_type": "stream",
          "name": "stderr",
          "text": [
            "/usr/local/lib/python3.7/dist-packages/sklearn/utils/validation.py:985: DataConversionWarning: A column-vector y was passed when a 1d array was expected. Please change the shape of y to (n_samples, ), for example using ravel().\n",
            "  y = column_or_1d(y, warn=True)\n"
          ]
        }
      ]
    },
    {
      "cell_type": "code",
      "metadata": {
        "id": "3D4JCnW_61Ye"
      },
      "source": [
        "#parameters_poly = {'gamma':[0.01, 1, 2, 3, 5, 7, 10]}\n",
        "#clf_poly_cv = GridSearchCV(estimator = SVC(kernel='poly',degree=2, coef0=1, C=1), param_grid =parameters_poly)\n",
        "#clf_poly_cv.fit(X, y_train)"
      ],
      "execution_count": null,
      "outputs": []
    },
    {
      "cell_type": "code",
      "metadata": {
        "colab": {
          "base_uri": "https://localhost:8080/"
        },
        "id": "anBOs3Nu9Mbs",
        "outputId": "2deb51da-0e79-4d5b-b358-3a38a5390488"
      },
      "source": [
        "parameters_poly = [0.01, 0.05, 0.1, 0.05, 1, 2, 3, 4, 6, 7, 10]\n",
        "score_poly = []\n",
        "\n",
        "for i in range(len(parameters_poly)):\n",
        "  clf_poly_cv = SVC(kernel='poly',degree=2, gamma=parameters_poly[i], C=1)\n",
        "  clf_poly_cv.fit(X, y_train)\n",
        "  score_poly.append(1 - clf_poly_cv.score(X, y_train))"
      ],
      "execution_count": null,
      "outputs": [
        {
          "output_type": "stream",
          "name": "stderr",
          "text": [
            "/usr/local/lib/python3.7/dist-packages/sklearn/utils/validation.py:985: DataConversionWarning: A column-vector y was passed when a 1d array was expected. Please change the shape of y to (n_samples, ), for example using ravel().\n",
            "  y = column_or_1d(y, warn=True)\n",
            "/usr/local/lib/python3.7/dist-packages/sklearn/utils/validation.py:985: DataConversionWarning: A column-vector y was passed when a 1d array was expected. Please change the shape of y to (n_samples, ), for example using ravel().\n",
            "  y = column_or_1d(y, warn=True)\n",
            "/usr/local/lib/python3.7/dist-packages/sklearn/utils/validation.py:985: DataConversionWarning: A column-vector y was passed when a 1d array was expected. Please change the shape of y to (n_samples, ), for example using ravel().\n",
            "  y = column_or_1d(y, warn=True)\n",
            "/usr/local/lib/python3.7/dist-packages/sklearn/utils/validation.py:985: DataConversionWarning: A column-vector y was passed when a 1d array was expected. Please change the shape of y to (n_samples, ), for example using ravel().\n",
            "  y = column_or_1d(y, warn=True)\n",
            "/usr/local/lib/python3.7/dist-packages/sklearn/utils/validation.py:985: DataConversionWarning: A column-vector y was passed when a 1d array was expected. Please change the shape of y to (n_samples, ), for example using ravel().\n",
            "  y = column_or_1d(y, warn=True)\n",
            "/usr/local/lib/python3.7/dist-packages/sklearn/utils/validation.py:985: DataConversionWarning: A column-vector y was passed when a 1d array was expected. Please change the shape of y to (n_samples, ), for example using ravel().\n",
            "  y = column_or_1d(y, warn=True)\n",
            "/usr/local/lib/python3.7/dist-packages/sklearn/utils/validation.py:985: DataConversionWarning: A column-vector y was passed when a 1d array was expected. Please change the shape of y to (n_samples, ), for example using ravel().\n",
            "  y = column_or_1d(y, warn=True)\n",
            "/usr/local/lib/python3.7/dist-packages/sklearn/utils/validation.py:985: DataConversionWarning: A column-vector y was passed when a 1d array was expected. Please change the shape of y to (n_samples, ), for example using ravel().\n",
            "  y = column_or_1d(y, warn=True)\n",
            "/usr/local/lib/python3.7/dist-packages/sklearn/utils/validation.py:985: DataConversionWarning: A column-vector y was passed when a 1d array was expected. Please change the shape of y to (n_samples, ), for example using ravel().\n",
            "  y = column_or_1d(y, warn=True)\n",
            "/usr/local/lib/python3.7/dist-packages/sklearn/utils/validation.py:985: DataConversionWarning: A column-vector y was passed when a 1d array was expected. Please change the shape of y to (n_samples, ), for example using ravel().\n",
            "  y = column_or_1d(y, warn=True)\n",
            "/usr/local/lib/python3.7/dist-packages/sklearn/utils/validation.py:985: DataConversionWarning: A column-vector y was passed when a 1d array was expected. Please change the shape of y to (n_samples, ), for example using ravel().\n",
            "  y = column_or_1d(y, warn=True)\n"
          ]
        }
      ]
    },
    {
      "cell_type": "code",
      "metadata": {
        "colab": {
          "base_uri": "https://localhost:8080/"
        },
        "id": "kFjFQyjW8bwQ",
        "outputId": "3545dbf3-e307-4a2b-d793-84c21bebb1f9"
      },
      "source": [
        "#1 - clf_cv.cv_results_['mean_test_score']\n",
        "print(1-np.array(score_poly))"
      ],
      "execution_count": null,
      "outputs": [
        {
          "output_type": "stream",
          "name": "stdout",
          "text": [
            "[0.64875 0.78875 0.79    0.78875 0.81375 0.815   0.81625 0.81875 0.8225\n",
            " 0.82625 0.825  ]\n"
          ]
        }
      ]
    },
    {
      "cell_type": "code",
      "metadata": {
        "colab": {
          "base_uri": "https://localhost:8080/",
          "height": 312
        },
        "id": "GtWUWrdV9Iik",
        "outputId": "5b68db7c-dd54-47c7-adec-9618b533e691"
      },
      "source": [
        "y_poly_gamma = score_poly\n",
        "x_poly_gamma = parameters_poly\n",
        "cv_gamma_min_poly = np.min(y_poly_gamma)\n",
        "\n",
        "plt.plot(x_poly_gamma, y_poly_gamma, '^--')\n",
        "for i, k in enumerate(x_poly_gamma):\n",
        "   plt.annotate('{:.3f}'.format(k), (x_poly_gamma[i], y_poly_gamma[i]), rotation=45)\n",
        "plt.axhline(cv_gamma_min_poly+np.std(y_poly_gamma), linestyle='dotted', label='Best + One SE')\n",
        "plt.xlabel('Value of Gamma')\n",
        "plt.ylabel('cross validation error')\n",
        "plt.show()\n",
        "\n",
        "print('The small C with in one standard error is:', x_poly_gamma[2])"
      ],
      "execution_count": null,
      "outputs": [
        {
          "output_type": "display_data",
          "data": {
            "image/png": "[encoded data removed]",
            "text/plain": [
              "<Figure size 432x288 with 1 Axes>"
            ]
          },
          "metadata": {
            "needs_background": "light"
          }
        },
        {
          "output_type": "stream",
          "name": "stdout",
          "text": [
            "The small C with in one standard error is: 0.1\n"
          ]
        }
      ]
    },
    {
      "cell_type": "code",
      "metadata": {
        "id": "7nq1JkaH-Nr4"
      },
      "source": [
        "best_gamma_poly = 0.1"
      ],
      "execution_count": null,
      "outputs": []
    },
    {
      "cell_type": "code",
      "metadata": {
        "colab": {
          "base_uri": "https://localhost:8080/"
        },
        "id": "3nlkxBcZ-DlM",
        "outputId": "9b1aff63-4c41-43cb-c7e4-babb99b4e79f"
      },
      "source": [
        " svm_poly_gamma = SVC(kernel='poly',degree=3, coef0=1, gamma=best_gamma_poly, C=1).fit(X, y_train)\n",
        " print('The error of training data for poynomial kenel is:', 1 - svm_poly_gamma.score(X, y_train))\n",
        " print('The error of testing data for poynomial kenel is:', 1 - svm_poly_gamma.score(X_test, y_test))"
      ],
      "execution_count": null,
      "outputs": [
        {
          "output_type": "stream",
          "name": "stdout",
          "text": [
            "The error of training data for poynomial kenel is: 0.14125\n",
            "The error of testing data for poynomial kenel is: 0.18888888888888888\n"
          ]
        },
        {
          "output_type": "stream",
          "name": "stderr",
          "text": [
            "/usr/local/lib/python3.7/dist-packages/sklearn/utils/validation.py:985: DataConversionWarning: A column-vector y was passed when a 1d array was expected. Please change the shape of y to (n_samples, ), for example using ravel().\n",
            "  y = column_or_1d(y, warn=True)\n"
          ]
        }
      ]
    },
    {
      "cell_type": "code",
      "metadata": {
        "id": "Wun4R5cQ-XZV"
      },
      "source": [
        ""
      ],
      "execution_count": null,
      "outputs": []
    }
  ]
}